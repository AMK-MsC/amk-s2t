{
 "cells": [
  {
   "cell_type": "markdown",
   "id": "20165af0",
   "metadata": {},
   "source": [
    "# Ealuation"
   ]
  },
  {
   "cell_type": "markdown",
   "id": "1e4ab274",
   "metadata": {},
   "source": [
    "This notebook includes evaluation of the Whisper Large-v2 model and a fine-tuned version of the same model. The audio used is a simulated emergency call based on an anonymized real scenario. It is done by loading the fine-tuned verison, then the original and have them both generate a transcript. The Word Error Rate (WER) is then calculated and compared between both models.\n",
    "\n",
    "The fine-tuned model is only trained on approximately 7 minutes of audio, similar to the emergency call used for evaluation. It is not expected that the results show any significant improvements."
   ]
  },
  {
   "cell_type": "code",
   "execution_count": 1,
   "id": "c33eff31",
   "metadata": {},
   "outputs": [],
   "source": [
    "with open(\"lydlogg2_transcript.txt\") as f:\n",
    "    transcription = f.read()[:-1]"
   ]
  },
  {
   "cell_type": "code",
   "execution_count": 2,
   "id": "e006861f",
   "metadata": {
    "scrolled": true
   },
   "outputs": [
    {
     "data": {
      "text/plain": [
       "'113 ambulansen, er pasienten våken? Ja. Ja, ja. Eller ja, jeg tror det. Det er Arnulf Thoraldsdottir som ringer og jeg ringer om kona mi, Margit, hun er 87 år og ligger på bakken og kommer seg ikke opp hun nå. Jeg vet ikke helt hva jeg skal gjøre, jeg. Nei, men jeg skal hjelpe deg. Hvilken adresse er det dere er på? Vi er i øvre frydendal 437. Ute på frydendal ute i Asker der. Ja er dere ute? Nei, vi er inne. Inne i leiligheten vår. I 6. etasje i leiligheten vår. Det står Thoraldsdottir på ringeklokka nede. Ja, men hva er det som har skjedd for noe da? Nei jeg hadde bare hvert på toalettet og når jeg kom ut så ligger hun på bakken her. Margit, er du våken? Margit? Ja da, hun ser på meg altså. Ja. Men hun ligger på bakken. Jeg får henne ikke opp jeg altså. Jeg er pjuskete selv, så jeg klarer ikke løfte opp Margit. Hun er stor dame. Svarer hun ordentlig når du snakker til henne? Margit? Ja, Margit? Ja da, hun svarer. Hun sier hun har vondt da. Hun har slått seg litt. Hun har vondt i hofta si sier hun. Hun har vondt i hofta si ja. Hun har vondt i hofta ja. Ja. Ja, stakkar. Ja, får hun puste normalt? Nei, huffameg dette her var ikke bra. Hva sa du? Får hun puste normalt? Ja, ja. Ja da, hun. Det ser ut som hun puster ganske vanlig, ja. Margit, får du puste? Ja da, Margit puster. Ja, det går greit med pusten sier hun. Ja, husker hun hvorfor hun falt? Vet du hvorfor du falt Margit? Nei, nei. Hun vet ikke hva som skjedde. Hun sier hun plutselig så var hun, hun skulle bare reise seg opp og gå å hente noe hun og så lå hun på gulvet. Hun er litt surrete altså. Så det er ikke alltid jeg får gode svar. Men hun sier at hun ikke vet hva som skjedde. Okei. Kanskje hun har snublet i noe, jeg vet ikke. Det er jo tepper her. Vi har litt tepper. Kanskje, jeg vet ikke. Nei, nei. Jeg tror nesten vi trenger en ambulanse og litt hjelp altså. Ja, men vi skal hjelpe dere. Vi skal sende en ambulanse og komme å hjelpe dere. Ja, tusen takk. Men det er hofta si hun har vondt i? Hun har vondt i hofta, ja. Ja. Og så sier hun at hun er litt svimmel. Hun er svimmel ja. Hun klarer liksom ikke helt å. Ja, hun snurrer litt, sier hun. Rommet snurrer litt. Ja, kanskje hun falt fordi hun var litt svimmel. Ja, kanskje. Jeg vet ikke. Tror ikke jeg får noe svar på det altså. Nei. Pleier hun ikke å være svimmel? Nei, hun har ikke vært. Nei, hun har ikke pleid å klagd på det. Litt når hun reiser seg opp da. Sånn som vi alltid er alle vi som er gamle, men ikke noe mer enn det. Neida. Nei, akkurat. Så hun har blitt svimmel idag da. Ja, kanskje hun har blitt. Ja, jeg tror nesten det altså. Ja, er hun svimmel nå? Hun har en time hos fastlegen nå etterpå egentlig klokka 11 altså. MO. Men nå kommer vi med sykebil uansett og henne da. Så kan vi ta det der med fastlegen etter det. Ja. Ja. Ja, det er kanskje bra det. Men er Margit svimmel nå? Ja, hun sier at hun er litt svimmel der hun ligger, ja. Ja. Er det slik at hun føler at hun holder på å besvime? Holder du på å besvime Margit? Ja, hun sier det. Hun er litt slurvete og holder på å besvime.Ja, akkurat. Klarer hun å snakke normalt syns du? Margit, kan du si? Hører du meg? Ja. Jada, hun svarer meg med vanlig. Hun gjør det. Hun klarer å snakke altså. Kan hun le og smile til deg? Ja. Margit, kan du smile? Ja. Jada hun smiler pent.Du syns ikke det er noe skjevheter i ansiktet? Nei, alltid smilt pent Margit og hun smiler pent nå også. Det går bra. Greier hun å løfte armene sine når hun ligger der? Jeg vet ikke. Hun ligger liksom på den høyre armen der da, så det er ikke så lett å se liksom. Nei det er ikke så lett å få undersøkt. Nei. Nei, jeg vet ikke. Det var ikke sånn denne dagen skulle være. Nei. Hun skulle ikke ligge der. Kan du spørre henne om hun følte seg ustødig da hun gikk i sted? Ja. Margit, følte du deg ustød? Husker du, Margit? Nei, hun vet ikke. Hun bare kikker på meg og rister på hodet, nei. Hun klarer ikke. Men i Øvre Frydendal 437. Er det? Ja. Er det i leilighet eller hus? Nei, det er i blokk. 16 etasjer. Det er i blokk, ja. Så vi bor i sekstende etasje ja. Dere bor i sekstende etasje, ja. Ja, ja. Hva er det som står på ringeklokka deres da? Der står det Thorhalsdottir. Thorhalsdottir? Ja, det stemmer. Ja, med H. Åja. Sånn. Okei. Men da er det en ambulanse på vei for å se på kona di nå. Ja. Det er bra. Ja. Vil du slå opp noe på Margit eller, trenger du fødselsnummeret hennes? Har du fødselsnummeret hennes, da? Jada. Ja, men da tar jeg det. 2709 ja. 27097745312. Det kan jeg27 ja 0977. Ja, men takk vet du. Margit Thorhalsdottir. ja, så bra. Nei, men da venter vi bare her vi da, så kommer det en ambulanse. Ja, men da ligger hun. Ja. Godt der hun ligger, eller? Ja, hun har det ikke så veldig bra sånn som hun ligger. Jeg tror ikke jeg tørr å flytte på henne. Hun er stor dame vet du. Ja, også hvis hun har skada hofta si også oppi dette. Ja, ja. Det er kanskje best at hun ligger sånn. Tar det lang tid da før bilen kommer? Nei, det tar ikke noe lang tid. De er rett rundt hjørnet der allerede. Ja. Ja, men det er supert. Nei, men tusen takk da. Ja, hvis hun blir noe verre eller det skjer noe endring nå før ambulansen kommer, da skal du bare ringe tilbake igjen til meg du. Da skal jeg ringe tilbake igjen på 113 ja. Men det er greit. Den timen hos fastlegen må vi kanskje bare avbestille. Ja, det kan nok tenkes det. Men hvis du er litt i tvil kan du vente til sykebilen har kommet, så kan de hjelpe dere. Ja, det kan vi gjøre. Ja. Ja. Okei. Okei. Tusen takk da. Ja, ha det da. Ha det, ha det.'"
      ]
     },
     "execution_count": 2,
     "metadata": {},
     "output_type": "execute_result"
    }
   ],
   "source": [
    "transcription"
   ]
  },
  {
   "cell_type": "code",
   "execution_count": 3,
   "id": "8c87e7cb",
   "metadata": {},
   "outputs": [],
   "source": [
    "def generate_results(pipe):\n",
    "    \n",
    "\n",
    "    results = []        \n",
    "\n",
    "    result = pipe(\"Lydlogg 2 test 113.wav\", return_timestamps=True)[\"chunks\"]\n",
    "    \n",
    "    results.append(result)\n",
    "    \n",
    "\n",
    "    print(\"DONE GENERATING RESULTS\")\n",
    "    return results"
   ]
  },
  {
   "cell_type": "code",
   "execution_count": 4,
   "id": "df7051c8-f53c-4268-9f18-31e89a9d8aac",
   "metadata": {
    "tags": []
   },
   "outputs": [
    {
     "name": "stdout",
     "output_type": "stream",
     "text": [
      "CPU times: user 24.5 s, sys: 11.3 s, total: 35.8 s\n",
      "Wall time: 34.9 s\n"
     ]
    }
   ],
   "source": [
    "%%time\n",
    "import torch\n",
    "from transformers import WhisperForConditionalGeneration, WhisperProcessor, pipeline\n",
    "import gc\n",
    "\n",
    "device = 0 if torch.cuda.is_available() else \"cpu\"\n",
    "\n",
    "pipe = pipeline(\n",
    "    \"automatic-speech-recognition\",\n",
    "    model=\"amk-s2t/amk-whisper-local\",\n",
    "    chunk_length_s=30,\n",
    "    device=device,\n",
    "    tokenizer=\"amk-s2t/amk-whisper-local\",\n",
    "    generate_kwargs={\n",
    "        \"language\":\"<|no|>\",\n",
    "        \"task\":\"transcribe\"\n",
    "    }\n",
    ")"
   ]
  },
  {
   "cell_type": "code",
   "execution_count": 5,
   "id": "d157dbb6",
   "metadata": {},
   "outputs": [
    {
     "name": "stderr",
     "output_type": "stream",
     "text": [
      "/home/jens/anaconda3/envs/amk/lib/python3.8/site-packages/transformers/generation/utils.py:1344: UserWarning: Using `max_length`'s default (448) to control the generation length. This behaviour is deprecated and will be removed from the config in v5 of Transformers -- we recommend using `max_new_tokens` to control the maximum length of the generation.\n",
      "  warnings.warn(\n"
     ]
    },
    {
     "name": "stdout",
     "output_type": "stream",
     "text": [
      "DONE GENERATING RESULTS\n",
      "CPU times: user 1min 42s, sys: 7.56 s, total: 1min 50s\n",
      "Wall time: 1min 50s\n"
     ]
    }
   ],
   "source": [
    "%%time\n",
    "results_ft = generate_results(pipe)"
   ]
  },
  {
   "cell_type": "markdown",
   "id": "641a13c8",
   "metadata": {},
   "source": [
    "Clearing the VRAM in order to load the original model."
   ]
  },
  {
   "cell_type": "code",
   "execution_count": 6,
   "id": "3000a3a3",
   "metadata": {},
   "outputs": [
    {
     "data": {
      "text/plain": [
       "<function torch.cuda.memory.empty_cache() -> None>"
      ]
     },
     "execution_count": 6,
     "metadata": {},
     "output_type": "execute_result"
    }
   ],
   "source": [
    "del pipe\n",
    "gc.collect()\n",
    "torch.cuda.empty_cache"
   ]
  },
  {
   "cell_type": "code",
   "execution_count": 7,
   "id": "23076d42",
   "metadata": {},
   "outputs": [],
   "source": [
    "pipe_org = pipeline(\n",
    "    \"automatic-speech-recognition\",\n",
    "    model=\"openai/whisper-large-v2\",\n",
    "    chunk_length_s=30,\n",
    "    device=device,\n",
    "    generate_kwargs={\n",
    "        \"language\":\"<|no|>\",\n",
    "        \"task\":\"transcribe\"\n",
    "    }\n",
    ")"
   ]
  },
  {
   "cell_type": "code",
   "execution_count": 8,
   "id": "db9457ef",
   "metadata": {},
   "outputs": [
    {
     "name": "stderr",
     "output_type": "stream",
     "text": [
      "/home/jens/anaconda3/envs/amk/lib/python3.8/site-packages/transformers/generation/utils.py:1344: UserWarning: Using `max_length`'s default (448) to control the generation length. This behaviour is deprecated and will be removed from the config in v5 of Transformers -- we recommend using `max_new_tokens` to control the maximum length of the generation.\n",
      "  warnings.warn(\n"
     ]
    },
    {
     "name": "stdout",
     "output_type": "stream",
     "text": [
      "DONE GENERATING RESULTS\n"
     ]
    }
   ],
   "source": [
    "results_org = generate_results(pipe_org)"
   ]
  },
  {
   "cell_type": "markdown",
   "id": "92cb695b",
   "metadata": {},
   "source": [
    "## Clean whisper output\n",
    "\n",
    "Whisper outputs the results as many segments with timestamps. Therefore we must clean the output so that it is rather formatted as a single text string."
   ]
  },
  {
   "cell_type": "code",
   "execution_count": 12,
   "id": "258f3bf3",
   "metadata": {},
   "outputs": [],
   "source": [
    "def clean_results(batch):\n",
    "    new_batch = []\n",
    "    for part in batch:\n",
    "        clean_part = \"\"\n",
    "        for segment in part:\n",
    "            clean_part += segment[\"text\"]\n",
    "        \n",
    "        new_batch.append(clean_part)\n",
    "    \n",
    "    return new_batch\n",
    "\n",
    "results_ft = clean_results(results_ft)\n",
    "results_org = clean_results(results_org)"
   ]
  },
  {
   "cell_type": "markdown",
   "id": "5e7b3bca",
   "metadata": {},
   "source": [
    "## Displaying the evaluation results"
   ]
  },
  {
   "cell_type": "code",
   "execution_count": 13,
   "id": "4e95f3e6-7322-4131-9eb4-56fd472a2204",
   "metadata": {
    "scrolled": true,
    "tags": []
   },
   "outputs": [
    {
     "data": {
      "text/html": [
       "<table border=\"1\" class=\"dataframe\">\n",
       "  <thead>\n",
       "    <tr style=\"text-align: right;\">\n",
       "      <th></th>\n",
       "      <th>transcription</th>\n",
       "      <th>finetuned_predictions</th>\n",
       "      <th>original_predictions</th>\n",
       "    </tr>\n",
       "  </thead>\n",
       "  <tbody>\n",
       "    <tr>\n",
       "      <th>0</th>\n",
       "      <td>113 ambulansen, er pasienten våken? Ja. Ja, ja. Eller ja, jeg tror det. Det er Arnulf Thoraldsdottir som ringer og jeg ringer om kona mi, Margit, hun er 87 år og ligger på bakken og kommer seg ikke opp hun nå. Jeg vet ikke helt hva jeg skal gjøre, jeg. Nei, men jeg skal hjelpe deg. Hvilken adresse er det dere er på? Vi er i øvre frydendal 437. Ute på frydendal ute i Asker der. Ja er dere ute? Nei, vi er inne. Inne i leiligheten vår. I 6. etasje i leiligheten vår. Det står Thoraldsdottir på ringeklokka nede. Ja, men hva er det som har skjedd for noe da? Nei jeg hadde bare hvert på toalettet og når jeg kom ut så ligger hun på bakken her. Margit, er du våken? Margit? Ja da, hun ser på meg altså. Ja. Men hun ligger på bakken. Jeg får henne ikke opp jeg altså. Jeg er pjuskete selv, så jeg klarer ikke løfte opp Margit. Hun er stor dame. Svarer hun ordentlig når du snakker til henne? Margit? Ja, Margit? Ja da, hun svarer. Hun sier hun har vondt da. Hun har slått seg litt. Hun har vondt i hofta si sier hun. Hun har vondt i hofta si ja. Hun har vondt i hofta ja. Ja. Ja, stakkar. Ja, får hun puste normalt? Nei, huffameg dette her var ikke bra. Hva sa du? Får hun puste normalt? Ja, ja. Ja da, hun. Det ser ut som hun puster ganske vanlig, ja. Margit, får du puste? Ja da, Margit puster. Ja, det går greit med pusten sier hun. Ja, husker hun hvorfor hun falt? Vet du hvorfor du falt Margit? Nei, nei. Hun vet ikke hva som skjedde. Hun sier hun plutselig så var hun, hun skulle bare reise seg opp og gå å hente noe hun og så lå hun på gulvet. Hun er litt surrete altså. Så det er ikke alltid jeg får gode svar. Men hun sier at hun ikke vet hva som skjedde. Okei. Kanskje hun har snublet i noe, jeg vet ikke. Det er jo tepper her. Vi har litt tepper. Kanskje, jeg vet ikke. Nei, nei. Jeg tror nesten vi trenger en ambulanse og litt hjelp altså. Ja, men vi skal hjelpe dere. Vi skal sende en ambulanse og komme å hjelpe dere. Ja, tusen takk. Men det er hofta si hun har vondt i? Hun har vondt i hofta, ja. Ja. Og så sier hun at hun er litt svimmel. Hun er svimmel ja. Hun klarer liksom ikke helt å. Ja, hun snurrer litt, sier hun. Rommet snurrer litt. Ja, kanskje hun falt fordi hun var litt svimmel. Ja, kanskje. Jeg vet ikke. Tror ikke jeg får noe svar på det altså. Nei. Pleier hun ikke å være svimmel? Nei, hun har ikke vært. Nei, hun har ikke pleid å klagd på det. Litt når hun reiser seg opp da. Sånn som vi alltid er alle vi som er gamle, men ikke noe mer enn det. Neida. Nei, akkurat. Så hun har blitt svimmel idag da. Ja, kanskje hun har blitt. Ja, jeg tror nesten det altså. Ja, er hun svimmel nå? Hun har en time hos fastlegen nå etterpå egentlig klokka 11 altså. MO. Men nå kommer vi med sykebil uansett og henne da. Så kan vi ta det der med fastlegen etter det. Ja. Ja. Ja, det er kanskje bra det. Men er Margit svimmel nå? Ja, hun sier at hun er litt svimmel der hun ligger, ja. Ja. Er det slik at hun føler at hun holder på å besvime? Holder du på å besvime Margit? Ja, hun sier det. Hun er litt slurvete og holder på å besvime.Ja, akkurat. Klarer hun å snakke normalt syns du? Margit, kan du si? Hører du meg? Ja. Jada, hun svarer meg med vanlig. Hun gjør det. Hun klarer å snakke altså. Kan hun le og smile til deg? Ja. Margit, kan du smile? Ja. Jada hun smiler pent.Du syns ikke det er noe skjevheter i ansiktet? Nei, alltid smilt pent Margit og hun smiler pent nå også. Det går bra. Greier hun å løfte armene sine når hun ligger der? Jeg vet ikke. Hun ligger liksom på den høyre armen der da, så det er ikke så lett å se liksom. Nei det er ikke så lett å få undersøkt. Nei. Nei, jeg vet ikke. Det var ikke sånn denne dagen skulle være. Nei. Hun skulle ikke ligge der. Kan du spørre henne om hun følte seg ustødig da hun gikk i sted? Ja. Margit, følte du deg ustød? Husker du, Margit? Nei, hun vet ikke. Hun bare kikker på meg og rister på hodet, nei. Hun klarer ikke. Men i Øvre Frydendal 437. Er det? Ja. Er det i leilighet eller hus? Nei, det er i blokk. 16 etasjer. Det er i blokk, ja. Så vi bor i sekstende etasje ja. Dere bor i sekstende etasje, ja. Ja, ja. Hva er det som står på ringeklokka deres da? Der står det Thorhalsdottir. Thorhalsdottir? Ja, det stemmer. Ja, med H. Åja. Sånn. Okei. Men da er det en ambulanse på vei for å se på kona di nå. Ja. Det er bra. Ja. Vil du slå opp noe på Margit eller, trenger du fødselsnummeret hennes? Har du fødselsnummeret hennes, da? Jada. Ja, men da tar jeg det. 2709 ja. 27097745312. Det kan jeg27 ja 0977. Ja, men takk vet du. Margit Thorhalsdottir. ja, så bra. Nei, men da venter vi bare her vi da, så kommer det en ambulanse. Ja, men da ligger hun. Ja. Godt der hun ligger, eller? Ja, hun har det ikke så veldig bra sånn som hun ligger. Jeg tror ikke jeg tørr å flytte på henne. Hun er stor dame vet du. Ja, også hvis hun har skada hofta si også oppi dette. Ja, ja. Det er kanskje best at hun ligger sånn. Tar det lang tid da før bilen kommer? Nei, det tar ikke noe lang tid. De er rett rundt hjørnet der allerede. Ja. Ja, men det er supert. Nei, men tusen takk da. Ja, hvis hun blir noe verre eller det skjer noe endring nå før ambulansen kommer, da skal du bare ringe tilbake igjen til meg du. Da skal jeg ringe tilbake igjen på 113 ja. Men det er greit. Den timen hos fastlegen må vi kanskje bare avbestille. Ja, det kan nok tenkes det. Men hvis du er litt i tvil kan du vente til sykebilen har kommet, så kan de hjelpe dere. Ja, det kan vi gjøre. Ja. Ja. Okei. Okei. Tusen takk da. Ja, ha det da. Ha det, ha det.</td>\n",
       "      <td>Telefon ringer. Er den treambulansen med pasienten våken? Ja, ja, ja. Eller ja, jeg tror det. Det er Arne Ursorat som ringer, og jeg ringer om kona mi, Margit. Hun er 87 år og ligger på bakken og kommer seg ikke opp hun nå. Jeg vet ikke helt hva jeg skal gjøre jeg. Det er meningen jeg skal hjelpe deg. Hvilken adress er dere på? Jeg vet ikke helt hva jeg skal gjøre jeg. Nei, men jeg skal hjelpe deg. Hvilken adress er dere på? Vi er i øvre Frydendal 437. På, ute på, på Frydendal, ute i Askeløs. Ja, er dere ute? Nei, vi er inne, vi er inne i leiligheten vår. Ja. I sjøttetetasje, leiligheten vår. Det står to rådstakter på ringklokka. Ja. Hva er det som skjedde for noe? Nei, jeg hadde bare vært på toalettet, og når jeg kom ut igjen så ligger hun på bakken her. Margit, er du våken? Margit? Ja da, hun ser på meg altså. Ja. Hun ligger på bakken, og jeg får henne ikke opp det altså. Jeg husker ikke selv, så jeg klager ikke å løfte opp Margit, hun er en store dame. Ja, svar hun ordentlig når du snakker med henne? Margit, ja, Margit. Ja da, hun svarer. Hun sier hun har vondt da hun har slått seg litt. Hun har vondt i hofta, sier hun. Vondt i hofta, sier jeg. Ja, vondt i hofta. Ja, ja, ja, stakkar. Ja, for hun puster normalt. Nei, ursa meg, dette her var ikke bra. Hva sa du? For hun puster normalt. Ja, ja. Ja da, hun, det ser ut som hun puster ganske vanlig. Ja, Margit, får du puste? Ja. Ja da, Margit puster. Ja, det går greit med pusten, sier hun. Ja, husker hun hvorfor hun falt? Vet du hvorfor du falt, Margit? Nei, hun vet ikke hva som skjedde. Hun sier hun plutselig var hun skulle bare reise på å gå og hente noe. Hun lå inn på gulvet. Hun er litt sur etter altså. Så det er ikke alltid jeg får gode svar, men hun sier at hun ikke vet hva som skjedde. Ok, Tor. Kanskje hun har snublet i noe, jeg vet ikke. Det er noen tepper her. Vi har de tepper. Kanskje, jeg vet ikke. Nei, nei. Jeg tror nesten vi trenger en ambulans til å hjelpe, altså. Ja, vi skal hjelpe dere. Vi skal sende en ambulans til å komme og hjelpe dere. Ja, tusen takk. Men det Hofda sier var vondt i. Hun er vondt i Hofda, ja. Også sier hun at hun er litt svibbel. Hun er svibbel, ja. Kører ikke helt, og snurrer litt, sier hun. Rommet snurrer litt. Ja, kanskje hun falt for at hun var svimmel. For deg, Erik, er det det da? Ja, kanskje, jeg vet ikke. Jeg tror ikke jeg får noe svar på det, altså. Nei. Pleier hun ikke å være svimmel? Nei hun har ikke vært svimmel, nei det hun har ikke pleiet å pleie på det. Litt når hun reiser seg opp da. Sånn som ja alltid der alle viser meg, da glemmer hun ikke noe mer enn det. Nei, hun kan ikke være så blitt svimmel i dag da. Nei hun pleier ikke det. Ja kanskje hun har blitt, ja hun tror nesten det altså. Er hun svimmel nå? Hun har en time hos fastlegen nå etterpå, egentlig klokka 11 altså. Så nå kommer de med en sykehvid uansett, det er ikke på denne tida. Ja. Så kan vi ta det med fastlegen etter det. Ja. Ja. Ja, det er kanskje bra det. Men er det der Margit Svimmel nå? Ja, hun sier at hun er i Svimmel der hun ligger. Ja. Ja, er det sånn at hun selv holder på å besvime? Holder hun på å besvime, Margit? Ja, hun sier det. Ja. Hun føler at hun er litt sånn på å snu litt og holder på å besvime littit? Ja hun sier det. Hun føler seg litt sånn på å snu litt og holde på å besvime litt ja. Ja akkurat. Klarer hun å snakke normalt synes du? Margit hører du meg? Ja da hun svarer meg med vanlig. Ja hun gjør det. Klarer hun å snakke altså. Kan du si heller å smile til deg? Ja, Margit kan du smile?? Ja, ja da. Jeg husker det pent. Nei, alltid smil pent, Margit. Jeg husker det pent nå også. Ja. Det går bra. Og greier hun å løpe armene sine når hun ligger der? Jeg vet ikke. Hun ligger nå liksom på den høyre armen der da, så det er ikke så lett å se. Nei, det er ikke så lett å få undersøkt. Nei, nei. Nei, jeg vet ikke. Det var jo ikke sånn denne dagen skulle være. Nei. Hun ligger der. Nei, nei. Nei, jeg vet ikke. Det var ikke sånn denne dagen skulle være. Nei. Ikke der. Nei, nei. Kan du spørre henne om hun følte seg ustød da hun gikk i sted? Ja, Margit, hvor følte du deg ustød, husker du, Margit? Nei, hun vet ikke. Nei, hun vet ikke det. Hun bare kikker på meg og rister på hodet. Nei, hun klarer det ikke. Men i Øvre Fryndal 430-7 er det leilighet eller et hus? Nei, der er blokk 16 etasjer. Så dere bor i 16 etasjer? Dere bor i 16 etasjer, ja. Ja, ja. Hva er det som står på ringklokka dere så? Der står det Toralsdottir. Toraldottir? Ja, det stemmer. Ja, med H. Åja, sånn. Okei, men da er det en ambulans på vei for å se på kona din også. Ja, det er bra. Vil du slå opp noe på Margit eller trenger du fødselsnummeren hennes? Ja, har du fødselsnummeren hennes da? Ja da. 27097745312. Det kan jeg. 27 ja ja. Ja, men takk det var vet du. Har det gitt noe bra med det? Ja, så bra. Nei men da venter vi bare her da, så kommer den ambulanse. Ja, men da ligger hun. Ja. Skal hun ligge eller? Ja hun har det ikke så veldig bra sånn som hun ligger. Jeg tror ikke jeg tørrer å flytte på henne. Det er en stor dame vet du. Ja ja. Også hvis hun har skadet hofta si også oppi dette. Ja, ja. Det er kanskje det beste for henne. Jeg tror hun lurer ned nær det. Har du lang tid da før bilen kommer? Nei, hun har ikke noen lang tid. Jeg er rett rundt hjørnet det allerede. Ja, ja, men det er supert. Nei, men tusen takk da. Ja, hvis at hun blir noe værre eller det skjer noe endring nå før ambulansen er der, så skal du bare ringe tilbake igjen til meg da. Da skal jeg ringe tilbake igjen. Ja, det er greit. Og den time hos fastlegen må vi kanskje bare abestille. Ja, det kan nok tenkes det. Men hvis du er litt i tvil, så kan du vente til sjukbilen har kommet, ja. Da skal de hjelpe deg. Ja, det kan vi gjøre. Ja. Ja. Okei. Tusen takk da. Ja, ha det da. Ha det.</td>\n",
       "      <td>Telefon ringer Er den preambulansen? Er pasienten våken? Ja, ja, ja. Eller, ja, jeg tror det. Det er Arnur Solalsattelsen som ringer, og jeg ringer om kona mi. Margit. Hun er 87 år og ligger på bakken og kommer seg ikke opp hun nå. Jeg vet ikke helt hva jeg skal gjøre. Det er meningen jeg skal hjelpe deg. Hvilken adress er det der jeg er på? Jeg vet ikke helt hva jeg skal gjøre jeg. Nei, men jeg skal hjelpe deg. Hvilken adress er dere på? Vi er i Øvre Frydendal 437. På Frydendal, ute i Askeløs. Ja, er dere ute? Nei, vi er inne i leiligheten vår. Ute i sjette etasje leiligheten vår. Det står to rådstakter på ringklokka. Ja, men hva er det som skjedde for noe? Nei, jeg hadde bare vært på toalettet, Ja. Det må være det som har skjedd for noe. Nei, jeg hadde bare vært på toalett, og da jeg kom ut igjen så ligger hun på bakken her. Margit, er du våken? Margit? Ja, da, hun ser på meg altså. Hun ligger på bakken, og jeg får henne ikke opp det altså. Jeg husker det selv, så jeg klarer ikke å løfte opp Margit, sin store dame. Ja, og svarer hun ordentlig når du snakker til henne? Margit, ja, Margit. Ja, da, hun svarer. Hun sier hun har vondt da hun har slått seg litt. Hun har vondt i hofta sitt i fyrhund. Vondt i hofta sitt, ja. Ja, vondt i hofta. Ja, ja, stakkar. Ja, for å svarer. Hun sier hun har vondt da hun har slått seg. Hun har vondt i hofta, sier fyren. Vondt i hofta, ja. Ja, ja, ja, stakkar. Ja, for hun puster normalt. Æ, ursa meg. Dette her var ikke bra. Hva sa du? For hun puster normalt. Ja, ja. Ja, da, hun, det ser ut som hun puster ganske vanlig. Ja, Margit, får du puste? Ja. Ja, da, Margit puster. Ja, det går greit med pusten, sier hun. Ja, husker hun hvorfor hun falt? Vet du hvorfor du falt, Margit? Nei, hun vet ikke hva som skjedde. Hun sier hun plutselig var hun skulle bare reise på å gå og hente noe, og hun lå inn på gulvet. Hun er litt sur utav alt, altså. Så det er ikke alltid jeg får gode svar, men hun sier hun ikke vet hva som skjedde. Ok, Tor. Kanskje hun har snublet i noe, jeg vet ikke. Det er noen tepper her, vi har de tepper. Kanskje, jeg vet ikke. Nei, nei. Jeg tror nesten vi trenger en ambulans til å hjelpe. Ja, vi skal hjelpe dere. Vi skal sende en ambulans til å hjelpe dere. Men det er Hofda som sier hun har vondt i. Hun har vondt i Hofda, ja. Og så sier hun at hun er litt svibbel. Hun er svibbel, ja. Hun snurrer litt, sier hun. Ja, kanskje hun falt fordi hun var svimmel? Ja, kanskje. Jeg vet ikke. Jeg tror ikke jeg får noe svar på det. Nei. Pleier hun ikke å være svimmel? Nei, hun har ikke vært svimmel. Det har hun ikke pleidet å pleie på. Litt når hun reiser seg opp, da. Sånn som altid der alle viser meg. Da blemmer hun ikke noe mer enn det. Nei, han kan ikke være svimmel i dag, da. Ja, det kan kanskje ha blitt. Ja, jeg tror nesten det, altså. Er hun svimmel nå? Hun har en time hos fastlegen nå etterpå, egentlig klokka 11 altså. Så nå kommer vi med en sykehvid uansett og kikker på denne kassa. Så kan vi ta det med fastlegen etter det. Ja, det er kanskje bra det. Men er det der Margit Kvimmel nå? Ja, hun sier at hun er i Kvimmel der hun ligger. Er det sånn at hun selv holder på å befime? Holder hun på å befime, Margit? Ja, hun sier det. Hun føler seg litt sånn på å snu litt og holde på å besvime litt. Ja, akkurat. Klarer hun å snakke normalt, synes du? Margit, hører du meg? Ja, hun svarer meg, det er vanlig. Kan du si heller å smile til deg? Ja, kan du smile? Ja, hun du smile? Ja, da. Er hun smilpent? Nei, alltid smilpent, Margit. Og hun smiler pent nå også. Og greier hun å løfte armene sine når hun ligger der? Jeg vet ikke. Hun ligger no på den høyre armen der, så det er ikke så lett å se. Nei, det er ikke så lett å få undersøkt. Nei, nei. Nei, jeg vet ikke. Det var ikke sånn denne dagen skulle være. Nei. Kan du spørre henne om hun følte seg ustød da hun gikk i sted? Ja, Margit, hvor følte du deg ustød, husker du, Margit? Nei, hun vet ikke. Hun bare kikker på meg og rister på hodet. Nei, hun klarer det ikke. Men i Øvre Fryndal 430-20 er det leilighet eller et hus? Der er det blokk, 16 etasjer. Så dere bor i 16 etasjer? Ja. Hva er det som står på ringklokka deres da? Der står det Toralsdotter. Toraldotter? Ja, det stemmer. Med H. Åja. Sånn. Ok, men da er det en ambulans på vei for å se på kona dine. Ja, det er bra. Vil du slå opp noe på Margit eller trenger du fødselsnummeren hennes? Har du fødselsnummeren hennes da? Ja da, 27097745312 Det kan jeg. 27, ja, ja. 0977, ja, men takk, det var veldig tålrartig. Ja, så bra. Nei, men da venter vi bare her, da, så kommer den ambulanse. Ja, men da ligger hun der hun ligger, eller? Ja, hun har det ikke så veldig bra sånn som hun ligger. Jeg tror ikke jeg tørrer å flytte på henne. Det er en stor dame, vet du. Ja, ja. Også hvis hun har skadet hofta si også oppi dette. Ja, ja. Det er kanskje det beste for livet. Har du lang tid da, før bilen kommer? Nei, jeg har ikke noen lang tid. Jeg er rett rundt hjørnet allerede. Ja, ja, men det er supert. Ja, men tusen takk da. Ja, hvis det blir noe værre, eller det skjer noe endring nå før ambulansen er der, da skal du bare ringe tilbake igjen til meg, det. Da skal jeg ringe tilbake igjen. Han har Da skal jeg ringe tilbake igjen til deg. Ja, men det er greit. Og den timinus fastlegen må vi kanskje bare avbestille. Ja, det kan nok tenkes det. Men hvis du er litt i tvil, så kan du vente til sykdelen har kommet, ja. Da skal de hjelpe deg. Ja, det kan vi gjøre. Ja. Ok. Tusen takk da. Ja, ha det da. Ha det.</td>\n",
       "    </tr>\n",
       "  </tbody>\n",
       "</table>"
      ],
      "text/plain": [
       "<IPython.core.display.HTML object>"
      ]
     },
     "metadata": {},
     "output_type": "display_data"
    }
   ],
   "source": [
    "from IPython.display import display, HTML\n",
    "import pandas as pd\n",
    "\n",
    "\n",
    "df = pd.DataFrame()\n",
    "\n",
    "#inital = {0:dataset.remove_columns([\"audio\"])[0][\"transcription\"] + dataset.remove_columns([\"audio\"])[1][\"transcription\"]}\n",
    "df[\"transcription\"] = {0:transcription}\n",
    "df[\"finetuned_predictions\"] = results_ft[0]\n",
    "df[\"original_predictions\"] = results_org[0]\n",
    "display(HTML(df.to_html()))"
   ]
  },
  {
   "cell_type": "code",
   "execution_count": 14,
   "id": "87e6767d",
   "metadata": {
    "scrolled": true
   },
   "outputs": [],
   "source": [
    "processor = WhisperProcessor.from_pretrained(\"amk-s2t/amk-whisper-local\")\n",
    "\n",
    "results = {\n",
    "    \"reference\": [],\n",
    "    \"ft_prediction\": [],\n",
    "    \"org_prediction\": []\n",
    "}\n",
    "\n",
    "for i, part in enumerate(results_ft):\n",
    "    clean = \"\"\n",
    "    for data in part:\n",
    "        clean += data\n",
    "    results[\"ft_prediction\"].append(processor.tokenizer._normalize(clean))\n",
    "    results[\"reference\"].append(processor.tokenizer._normalize(df[\"transcription\"][i]))\n",
    "    "
   ]
  },
  {
   "cell_type": "code",
   "execution_count": 15,
   "id": "d00df678",
   "metadata": {},
   "outputs": [
    {
     "data": {
      "text/plain": [
       "<function torch.cuda.memory.empty_cache() -> None>"
      ]
     },
     "execution_count": 15,
     "metadata": {},
     "output_type": "execute_result"
    }
   ],
   "source": [
    "gc.collect()\n",
    "torch.cuda.empty_cache"
   ]
  },
  {
   "cell_type": "code",
   "execution_count": 16,
   "id": "77b03a60",
   "metadata": {},
   "outputs": [],
   "source": [
    "for i, part in enumerate(results_org):\n",
    "    clean = \"\"\n",
    "    for data in part:\n",
    "        clean += data\n",
    "    results[\"org_prediction\"].append(processor.tokenizer._normalize(clean))\n",
    "    "
   ]
  },
  {
   "cell_type": "code",
   "execution_count": 17,
   "id": "70e03d8c",
   "metadata": {
    "scrolled": true
   },
   "outputs": [
    {
     "name": "stdout",
     "output_type": "stream",
     "text": [
      "Finetuned: 32.9443447037702 \n",
      "Original: 33.48294434470377\n"
     ]
    }
   ],
   "source": [
    "from evaluate import load\n",
    "\n",
    "wer = load(\"wer\")\n",
    "\n",
    "wer_ft = 100 * wer.compute(references=results[\"reference\"], predictions=results[\"ft_prediction\"])\n",
    "wer_org = 100 * wer.compute(references=results[\"reference\"], predictions=results[\"org_prediction\"])\n",
    "print(\"Finetuned:\", wer_ft, \"\\nOriginal:\", wer_org)"
   ]
  }
 ],
 "metadata": {
  "kernelspec": {
   "display_name": "amk",
   "language": "python",
   "name": "amk"
  },
  "language_info": {
   "codemirror_mode": {
    "name": "ipython",
    "version": 3
   },
   "file_extension": ".py",
   "mimetype": "text/x-python",
   "name": "python",
   "nbconvert_exporter": "python",
   "pygments_lexer": "ipython3",
   "version": "3.8.16"
  }
 },
 "nbformat": 4,
 "nbformat_minor": 5
}
